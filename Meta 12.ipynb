{
  "cells": [
    {
      "cell_type": "code",
      "source": [
        "n = int(input(\"¿En que numero estas pensando? \"))\n",
        "\n",
        "if (n % 2) == 0:\n",
        "    print(\"¡\" + str(n) + \" es par!\")\n",
        "else:\n",
        "    print(\"¡\" + str(n) + \" es impar!\")"
      ],
      "metadata": {
        "id": "jZD_0_YQsFgw",
        "outputId": "8383b73d-a37c-4538-9bef-a253ee735ef9",
        "colab": {
          "base_uri": "https://localhost:8080/"
        }
      },
      "execution_count": null,
      "outputs": [
        {
          "output_type": "stream",
          "name": "stdout",
          "text": [
            "¿En que numero estas pensando? 27\n",
            "¡27 es impar!\n"
          ]
        }
      ]
    },
    {
      "cell_type": "code",
      "source": [
        "    animales = input ( \"ingrese un nombre de animal:\" )\n",
        "    profesion = input ( \"ingrese un nombre de profesion:\" )\n",
        "    tela = input ( 'ingrese un nombre de pieza de tela:' )\n",
        "    cosas = input ( 'ingrese un nombre de cosa:' )\n",
        "    nombre = input ( 'ingrese un nombre:' )\n",
        "    lugar = input ( 'ingrese un nombre de lugar:' )\n",
        "    verbo = input ( 'ingrese un verbo en forma de ing:' )\n",
        "    comida = input ( 'nombre del alimento:' )\n",
        "\n",
        "    print( 'di ' + comida + \n",
        "           ', dijo el fotógrafo mientras el flash de la cámara! '\n",
        "            + nombre + \n",
        "           ' y yo había ido a ' \n",
        "           + lugar + \n",
        "           ' para tomarnos fotos en mi cumpleaños. La primera foto que realmente queríamos era una foto de nosotros vestidos como ' \n",
        "           +animales+ ' fingiendo ser una ' +profesion+ \n",
        "           '. Cuando vimos la segunda foto, era exactamente lo que quería. Ambos parecíamos '\n",
        "            +cosas+ ' vistiendo ' +tela+ ' y ' + verbo + ' --exactamente lo que tenía en mente' )"
      ],
      "metadata": {
        "id": "yTaZ4Ma0uVAn",
        "outputId": "6b4c5289-50de-4c94-e3a5-39aba5872716",
        "colab": {
          "base_uri": "https://localhost:8080/"
        }
      },
      "execution_count": null,
      "outputs": [
        {
          "output_type": "stream",
          "name": "stdout",
          "text": [
            "ingrese un nombre de animal:dant\n",
            "ingrese un nombre de profesion:bombero\n",
            "ingrese un nombre de pieza de tela:algodon\n",
            "ingrese un nombre de cosa:lupa\n",
            "ingrese un nombre:omar\n",
            "ingrese un nombre de lugar:tijuana\n",
            "ingrese un verbo en forma de ing:correr\n",
            "nombre del alimento:tacos\n",
            "di tacos, dijo el fotógrafo mientras el flash de la cámara! omar y yo había ido a tijuana para tomarnos fotos en mi cumpleaños. La primera foto que realmente queríamos era una foto de nosotros vestidos como dant fingiendo ser una bombero. Cuando vimos la segunda foto, era exactamente lo que quería. Ambos parecíamos lupa vistiendo algodon y correr --exactamente lo que tenía en mente\n"
          ]
        }
      ]
    },
    {
      "cell_type": "code",
      "source": [
        "txt = input(\"Teclea cualquier texto\")\n",
        "num = len(txt.split())\n",
        "print(\"Ingresaste un numero de:\", num ,\"Palabras\")"
      ],
      "metadata": {
        "id": "zDAbjZdRx7Gy",
        "outputId": "750336ef-480d-4205-8463-3525de7fbbb7",
        "colab": {
          "base_uri": "https://localhost:8080/"
        }
      },
      "execution_count": null,
      "outputs": [
        {
          "output_type": "stream",
          "name": "stdout",
          "text": [
            "Teclea cualquier textoHola, mi nombre es... abcd\n",
            "Ingresaste un numero de: 5 Palabras\n"
          ]
        }
      ]
    },
    {
      "cell_type": "code",
      "source": [
        "print(\"Ingrese sus datos personales\")\n",
        "\n",
        "nombre=str(input(\"ingresa tu nombre \\n\")) \n",
        "edad=int(input(\"ingresa la edad \\n\"))\n",
        "dir=str(input(\"ingrese su direccion\\n\"))\n",
        "fecha=int(input(\"Ingrese su fecha de nacimiento \\n\"))\n",
        "\n",
        "\n",
        "print(\"Tu nombre es:\", nombre,\"tu edad es: \",edad,\"Tu fecha de nacimiento es:\",fecha,\"Su direccion es:\",dir)"
      ],
      "metadata": {
        "id": "jsJflILs0UXY",
        "outputId": "29dbf1cc-26d6-4d72-bffa-6b8f56f943c3",
        "colab": {
          "base_uri": "https://localhost:8080/"
        }
      },
      "execution_count": null,
      "outputs": [
        {
          "output_type": "stream",
          "name": "stdout",
          "text": [
            "Ingrese sus datos personales\n",
            "ingresa tu nombre \n",
            "mario\n",
            "ingresa la edad \n",
            "22\n",
            "ingrese su direccion\n",
            "Tijuana bc\n",
            "Ingrese su fecha de nacimiento \n",
            "240300\n",
            "Tu nombre es: mario tu edad es:  22 Tu fecha de nacimiento es: 240300 Su direccion es: Tijuana bc\n"
          ]
        }
      ]
    },
    {
      "cell_type": "code",
      "source": [
        "n = input( \" Teclee cualquier texto\")\n",
        "name = (n.replace(\"de\", \"\"))\n",
        "num = name.split()\n",
        "\n",
        "acro = \"\"\n",
        "for i in num:\n",
        "    acro += i[0].upper()\n",
        "\n",
        "print(acro)"
      ],
      "metadata": {
        "id": "poHtcjEF6V7k",
        "outputId": "827e167a-bf1e-4a43-9201-aa9e296aaff3",
        "colab": {
          "base_uri": "https://localhost:8080/"
        }
      },
      "execution_count": null,
      "outputs": [
        {
          "output_type": "stream",
          "name": "stdout",
          "text": [
            " Teclee cualquier textoPor la realizacion plena del ser\n",
            "PLRPLS\n"
          ]
        }
      ]
    },
    {
      "cell_type": "code",
      "source": [
        "from random import randint\n",
        "\n",
        "eleccion = [\"piedra\", \"papel\", \"tijeras\"]\n",
        "compu = eleccion[randint(0, 2)]\n",
        "if compu == \"piedra\":\n",
        "    c = compu.replace(\"piedra\", \"✊\")\n",
        "elif compu == \"papel\":\n",
        "    c = compu.replace(\"papel\", \"✋\")\n",
        "else:\n",
        "    c = compu.replace(\"tijeras\", \"✌\")\n",
        "\n",
        "print(\"Piedra ✊\", \"Papel ✋\", \"o Tijeras ✌\\n\")\n",
        "jugador = input(\"Elije: \").lower()\n",
        "compu = eleccion[randint(0, 2)]\n",
        "\n",
        "if jugador == \"piedra\":\n",
        "    j = jugador.replace(\"piedra\", \"✊\")\n",
        "elif jugador == \"papel\":\n",
        "    j = jugador.replace(\"papel\", \"✋\")\n",
        "else:\n",
        "    j = jugador.replace(\"tijeras\", \"✌\")\n",
        "\n",
        "print(\"PC -->\", c, \"vs\", j, \"<-- Jugador\")\n",
        "\n",
        "if c == j:\n",
        "    print(\"Empáte\")\n",
        "elif c == \"✊\" and j == \"✋\":\n",
        "    print(\"Jugdor gana!\")\n",
        "elif c == \"✊\" and j == \"✌\":\n",
        "    print(\"PC gana!\")\n",
        "elif c == \"✋\" and j == \"✌\":\n",
        "    print(\"Jugador gana!\")\n",
        "elif c == \"✋\" and j == \"✊\":\n",
        "    print(\"PC gana!\")\n",
        "elif c == \"✌\" and j == \"✊\":\n",
        "    print(\"Jugador gana!\")\n",
        "elif c == \"✌\" and j == \"✋\":\n",
        "    print(\"PC gana!\")"
      ],
      "metadata": {
        "id": "aIiDYbbf69r3",
        "outputId": "4b62f34a-b0bb-4dc9-ae96-d55b14fcaeea",
        "colab": {
          "base_uri": "https://localhost:8080/"
        }
      },
      "execution_count": null,
      "outputs": [
        {
          "output_type": "stream",
          "name": "stdout",
          "text": [
            "Piedra ✊ Papel ✋ o Tijeras ✌\n",
            "\n",
            "Elije: Piedra\n",
            "PC --> ✋ vs ✊ <-- Jugador\n",
            "PC gana!\n"
          ]
        }
      ]
    },
    {
      "cell_type": "code",
      "source": [
        "import random \n",
        "\n",
        "def adivinarNumero():\n",
        "    #Numero que debe adivinar el usuario\n",
        "    \n",
        "    numero = random.randint(0,20)\n",
        "    \n",
        "    #Se sale de bucle solo cuando el usuario lo adivine\n",
        "    while True:\n",
        "        #input -> Permite recoger la información ingresada por el usuario\n",
        "     \n",
        "        numeroUsuario = int(input('Ingresa el número que consideras el correcto: '))\n",
        "        \n",
        "        # == -> Permite Comparar dos variables\n",
        "        if numeroUsuario == numero:\n",
        "            print(f'Correcto! La respuesta es {numeroUsuario}')\n",
        "            break #Pasa salir del bucle\n",
        "        \n",
        "        if numeroUsuario < numero:\n",
        "            print(f'El número {numeroUsuario} es inferior')\n",
        "        else:\n",
        "            print(f'El número {numeroUsuario} es superior')\n",
        "\n",
        "#Se llama a la función adivinar para que inicie el programa            \n",
        "adivinarNumero()\n",
        "\n",
        "#Tomado de:Timosoft"
      ],
      "metadata": {
        "id": "O-deibdM7S4N"
      },
      "execution_count": null,
      "outputs": []
    },
    {
      "cell_type": "code",
      "source": [
        "igual, aux = 0, 0\n",
        "\n",
        "texto = input(\"Ingrese la palabra que desea evaluar: \")\n",
        "for ind in reversed(range(0, len(texto))):\n",
        "  if texto[ind].lower() == texto[aux].lower():\n",
        "    igual += 1\n",
        "  aux += 1\n",
        "if len(texto) == igual:\n",
        "  print(\"El texto es palindromo!\")\n",
        "else:\n",
        "  print(\"El texto no es palindromo!\")"
      ],
      "metadata": {
        "id": "phLF-TzV9AaM",
        "outputId": "c6ae6cd3-7697-4fd0-fe0c-1027fdacc68f",
        "colab": {
          "base_uri": "https://localhost:8080/"
        }
      },
      "execution_count": null,
      "outputs": [
        {
          "output_type": "stream",
          "name": "stdout",
          "text": [
            "Ingrese la palabra que desea evaluar: hola\n",
            "El texto no es palindromo!\n"
          ]
        }
      ]
    },
    {
      "cell_type": "code",
      "source": [],
      "metadata": {
        "id": "E-tJHY9T99h6"
      },
      "execution_count": null,
      "outputs": []
    }
  ],
  "metadata": {
    "colab": {
      "toc_visible": true,
      "provenance": []
    },
    "kernelspec": {
      "display_name": "Python 3",
      "name": "python3"
    }
  },
  "nbformat": 4,
  "nbformat_minor": 0
}